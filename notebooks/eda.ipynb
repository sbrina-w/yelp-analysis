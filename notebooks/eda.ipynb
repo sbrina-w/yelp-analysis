{
 "cells": [
  {
   "cell_type": "markdown",
   "id": "bbaa7d11",
   "metadata": {},
   "source": [
    "# Data Loading"
   ]
  },
  {
   "cell_type": "code",
   "execution_count": 40,
   "id": "f50f2320",
   "metadata": {},
   "outputs": [
    {
     "name": "stdout",
     "output_type": "stream",
     "text": [
      "Filtered to 5000 food-related businesses\n",
      "                   business_id                     name  \\\n",
      "86838   rur-gWxPITnyKn9F2lsOvQ        Giant Food Stores   \n",
      "130099  cX2CcTc_KNE_BinmXALBwA   Prime Time Bar & Grill   \n",
      "99702   RwsLzLhCzGX2BcIM5BiwCQ  La Michoacana Premium 2   \n",
      "82484   ZtjQub4hsEbltiofZyllRA   Moju's Family Pizzeria   \n",
      "88041   rYTdFa_sH5eE41wfg9LMhA                Starbucks   \n",
      "\n",
      "                       address          city state postal_code   latitude  \\\n",
      "86838         3477 Lincoln Hwy     Thorndale    PA       19372  39.996351   \n",
      "130099       11408 US Hwy 19 N   Port Richey    FL       34668  28.323101   \n",
      "99702   2651 Murfreesboro Pike     Nashville    TN       37217  36.072960   \n",
      "82484   2501 E Westmoreland St  Philadelphia    PA       19134  39.988325   \n",
      "88041         10015 Gravois Rd        Affton    MO       63123  38.551156   \n",
      "\n",
      "        longitude  stars  review_count  is_open  \\\n",
      "86838  -75.754664    2.0            19        1   \n",
      "130099 -82.698415    2.5             5        1   \n",
      "99702  -86.637371    4.5             9        1   \n",
      "82484  -75.102514    4.0            59        1   \n",
      "88041  -90.333412    3.0            14        1   \n",
      "\n",
      "                                               attributes  \\\n",
      "86838                                                None   \n",
      "130099  {'RestaurantsPriceRange2': '1', 'OutdoorSeatin...   \n",
      "99702   {'BusinessParking': '{'garage': False, 'street...   \n",
      "82484   {'RestaurantsReservations': 'False', 'Restaura...   \n",
      "88041   {'WiFi': ''free'', 'OutdoorSeating': 'True', '...   \n",
      "\n",
      "                                               categories  \\\n",
      "86838                                       Grocery, Food   \n",
      "130099  Restaurants, Bars, Seafood, American (Traditio...   \n",
      "99702                     Ice Cream & Frozen Yogurt, Food   \n",
      "82484                                  Pizza, Restaurants   \n",
      "88041                                  Coffee & Tea, Food   \n",
      "\n",
      "                                                    hours  \n",
      "86838   {'Monday': '0:0-0:0', 'Tuesday': '0:0-0:0', 'W...  \n",
      "130099  {'Monday': '12:0-20:0', 'Tuesday': '12:0-20:0'...  \n",
      "99702                                                None  \n",
      "82484   {'Monday': '0:0-0:0', 'Tuesday': '12:0-19:0', ...  \n",
      "88041   {'Monday': '5:0-20:0', 'Tuesday': '5:0-20:0', ...  \n"
     ]
    }
   ],
   "source": [
    "#Imports\n",
    "import pandas as pd\n",
    "import json\n",
    "\n",
    "#Load Data\n",
    "business_df = pd.read_json('../yelp_data/yelp_academic_dataset_business.json', lines=True)\n",
    "\n",
    "#Filter by category (Food and restaurants)\n",
    "#notes to self: fillna for replacing all missing values (NaNs)\n",
    "restaurants_df = business_df[business_df['categories'].fillna('').str.contains('Restaurants|Food', case=False, na=False)]\n",
    "# city_counts = business_df['city'].value_counts().head(20)\n",
    "# print(city_counts)\n",
    "restaurants_sample = restaurants_df.sample(n=5000, random_state=42)\n",
    "print(f\"Filtered to {len(restaurants_sample)} food-related businesses\")\n",
    "\n",
    "print(restaurants_sample.head())"
   ]
  },
  {
   "cell_type": "markdown",
   "id": "5423b156",
   "metadata": {},
   "source": [
    "# Load and Join Reviews"
   ]
  },
  {
   "cell_type": "code",
   "execution_count": 41,
   "id": "41c0dee9",
   "metadata": {},
   "outputs": [
    {
     "name": "stdout",
     "output_type": "stream",
     "text": [
      "Filtered to 394935 business-related reviews\n",
      "                 review_id                 user_id             business_id  \\\n",
      "7   _ZeMknuYdlQcUqng_Im3yg  yfFzsLmaWF2d4Sr0UNbBgg  LHSTtnW3YHCeUkRDGyJOyw   \n",
      "40  mO398Ed5dpv1H5ZsKc8KXw  yobeeTUBfaTBcnk26mXNuA  hKameFsaXh9g8WQbv593UA   \n",
      "50  yCbzm_d4cHpfUX00Ljvgmg  bHSoye7R5cL-LVWLxtaxMg  SSZDGl2J-CEyIzuIbEiYNQ   \n",
      "51  r2IBPY_E8AE5_GpsqlONyg  IKbjLnfBQtEyVzEu8CuOLg  VJEzpfLs_Jnzgqh5A_FVTg   \n",
      "67  Ad91EzbAGRCR1SwkPfZJKg  LWTvg7RlyNLXIf482tXBPw  WCVFqK84i2H5EClSoow7ZA   \n",
      "\n",
      "    stars  useful  funny  cool  \\\n",
      "7       5       2      0     0   \n",
      "40      4       0      0     0   \n",
      "50      2       2      0     0   \n",
      "51      4       0      0     0   \n",
      "67      5       0      0     0   \n",
      "\n",
      "                                                 text                date  \n",
      "7   Amazingly amazing wings and homemade bleu chee... 2015-08-07 02:29:16  \n",
      "40  Food was good- atmosphere/decor is like a fish... 2015-04-15 15:30:48  \n",
      "50  We started with the artichoke dip, big mistake... 2017-09-08 23:20:19  \n",
      "51  It was my fiance's birthday and he decided he ... 2014-04-01 13:05:18  \n",
      "67  Traveling through in our RV, stopped over in G... 2016-07-21 17:41:18  \n"
     ]
    }
   ],
   "source": [
    "# Get business_ids from sampled restaurants/food establishments\n",
    "sample_ids = set(restaurants_sample['business_id'])\n",
    "\n",
    "# Load only reviews for the sampled restaurants/food establishments\n",
    "reviews_sample = pd.read_json('../yelp_data/yelp_academic_dataset_review.json', lines=True, chunksize=100000)\n",
    "\n",
    "filtered_reviews = pd.concat([\n",
    "    chunk[chunk['business_id'].isin(sample_ids)]\n",
    "    for chunk in reviews_sample\n",
    "])\n",
    "print(f\"Filtered to {len(filtered_reviews)} business-related reviews\")\n",
    "print(filtered_reviews.head())"
   ]
  },
  {
   "cell_type": "markdown",
   "id": "c76f2e27",
   "metadata": {},
   "source": [
    "# Add User Ratings"
   ]
  },
  {
   "cell_type": "code",
   "execution_count": 42,
   "id": "97168b0c",
   "metadata": {},
   "outputs": [
    {
     "name": "stdout",
     "output_type": "stream",
     "text": [
      "Number of unique users: 256898\n",
      "Matched 256897 users from user data\n",
      "                review_id                 user_id             business_id  \\\n",
      "0  _ZeMknuYdlQcUqng_Im3yg  yfFzsLmaWF2d4Sr0UNbBgg  LHSTtnW3YHCeUkRDGyJOyw   \n",
      "1  mO398Ed5dpv1H5ZsKc8KXw  yobeeTUBfaTBcnk26mXNuA  hKameFsaXh9g8WQbv593UA   \n",
      "2  yCbzm_d4cHpfUX00Ljvgmg  bHSoye7R5cL-LVWLxtaxMg  SSZDGl2J-CEyIzuIbEiYNQ   \n",
      "3  r2IBPY_E8AE5_GpsqlONyg  IKbjLnfBQtEyVzEu8CuOLg  VJEzpfLs_Jnzgqh5A_FVTg   \n",
      "4  Ad91EzbAGRCR1SwkPfZJKg  LWTvg7RlyNLXIf482tXBPw  WCVFqK84i2H5EClSoow7ZA   \n",
      "\n",
      "   stars  useful  funny  cool  \\\n",
      "0      5       2      0     0   \n",
      "1      4       0      0     0   \n",
      "2      2       2      0     0   \n",
      "3      4       0      0     0   \n",
      "4      5       0      0     0   \n",
      "\n",
      "                                                text                date  \\\n",
      "0  Amazingly amazing wings and homemade bleu chee... 2015-08-07 02:29:16   \n",
      "1  Food was good- atmosphere/decor is like a fish... 2015-04-15 15:30:48   \n",
      "2  We started with the artichoke dip, big mistake... 2017-09-08 23:20:19   \n",
      "3  It was my fiance's birthday and he decided he ... 2014-04-01 13:05:18   \n",
      "4  Traveling through in our RV, stopped over in G... 2016-07-21 17:41:18   \n",
      "\n",
      "   average_stars  review_count  \n",
      "0           5.00           1.0  \n",
      "1           4.30          30.0  \n",
      "2           3.00          13.0  \n",
      "3           3.87         800.0  \n",
      "4           3.40          10.0  \n"
     ]
    }
   ],
   "source": [
    "#get unique user ids from the filtered reviews\n",
    "user_ids = set(filtered_reviews['user_id'].unique())\n",
    "print(f\"Number of unique users: {len(user_ids)}\")\n",
    "\n",
    "#read and filter users\n",
    "chunks = pd.read_json('../yelp_data/yelp_academic_dataset_user.json', lines=True, chunksize=100000)\n",
    "matched_users = pd.concat([\n",
    "    chunk[chunk['user_id'].isin(user_ids)][['user_id','average_stars','review_count']]\n",
    "    for chunk in chunks\n",
    "])\n",
    "\n",
    "#merge into review data\n",
    "print(f\"Matched {len(matched_users)} users from user data\")\n",
    "reviews_with_user = filtered_reviews.merge(\n",
    "    matched_users,\n",
    "    on='user_id',\n",
    "    how='left'\n",
    ")\n",
    "\n",
    "print(reviews_with_user.head())"
   ]
  },
  {
   "cell_type": "markdown",
   "id": "324181c8",
   "metadata": {},
   "source": [
    "# Adjust Rating Calculation for Bias\n",
    "Some users tend to rate more harshly or more generously than others, this is to attempt to \"normalize\" user bias based on their average ratings. Although in this dataset, this is not a prevelant issue since it is centered around US based reviews, if it were a global review data this is good to factor in cultural differences. For example, in Japan, Google average review ratings are much lower and a 3 star rating is equivalent to around a 4.5-5 star here."
   ]
  },
  {
   "cell_type": "code",
   "execution_count": 43,
   "id": "0596c6ec",
   "metadata": {},
   "outputs": [],
   "source": [
    "def adjustRating(row):\n",
    "    #only adjusting for users with a substantial amount of reviews to base off of\n",
    "    if pd.notnull(row['average_stars']) and pd.notnull(row['review_count']) and row['review_count'] >= 15:\n",
    "        diff = row['stars'] - row['average_stars']\n",
    "        return max(1.0, min(5.0, 3.0 + diff)) #3.0 is a neutral midpoint baseline\n",
    "    return row['stars']\n",
    "reviews_with_user['adjusted_rating'] = reviews_with_user.apply(adjustRating, axis=1)"
   ]
  },
  {
   "cell_type": "code",
   "execution_count": 49,
   "id": "466b4f37",
   "metadata": {},
   "outputs": [
    {
     "name": "stdout",
     "output_type": "stream",
     "text": [
      "Original mean star rating: 3.7893830630356895\n",
      "Bias-adjusted mean rating: 3.265673541215642\n",
      "0    1.832000\n",
      "1    2.382000\n",
      "2    4.056667\n",
      "3    3.876765\n",
      "4    2.561333\n",
      "Name: adjusted_mean, dtype: float64\n"
     ]
    }
   ],
   "source": [
    "#compare original and adjusted mean ratings\n",
    "print(\"Original mean star rating:\", reviews_with_user['stars'].mean())\n",
    "print(\"Bias-adjusted mean rating:\", reviews_with_user['adjusted_rating'].mean())\n",
    "\n",
    "#change stars to the normalized ratings\n",
    "adjusted_business_stats = reviews_with_user.groupby('business_id').agg(\n",
    "    adjusted_mean=('adjusted_rating', 'mean'),\n",
    "    original_mean=('stars', 'mean'),\n",
    "    total_reviews=('stars', 'count')\n",
    ").reset_index()\n",
    "\n",
    "restaurants_sample = restaurants_sample.merge(adjusted_business_stats, on='business_id', how='left')\n",
    "print(restaurants_sample['adjusted_mean'].head())"
   ]
  },
  {
   "cell_type": "markdown",
   "id": "4d54c5c7",
   "metadata": {},
   "source": [
    "# Recalculate Restaurant Ratings"
   ]
  },
  {
   "cell_type": "code",
   "execution_count": null,
   "id": "66ac2421",
   "metadata": {},
   "outputs": [
    {
     "name": "stdout",
     "output_type": "stream",
     "text": [
      "                      name  stars  adjusted_avg_rating  review_count  \\\n",
      "0        Giant Food Stores    2.0             1.832000            19   \n",
      "1   Prime Time Bar & Grill    2.5             2.382000             5   \n",
      "2  La Michoacana Premium 2    4.5             4.056667             9   \n",
      "3   Moju's Family Pizzeria    4.0             3.876765            59   \n",
      "4                Starbucks    3.0             2.561333            14   \n",
      "\n",
      "   adjusted_review_count  \n",
      "0                     20  \n",
      "1                      5  \n",
      "2                      9  \n",
      "3                     68  \n",
      "4                     15  \n",
      "restaurants with reviews: 64616\n"
     ]
    }
   ],
   "source": [
    "# Recalculate Restaurant Ratings using Adjusted Ratings\n",
    "# Get the average adjusted rating and adjusted review count per restaurant\n",
    "adjusted_business_stats = reviews_with_user.groupby('business_id').agg(\n",
    "    adjusted_avg_rating=('adjusted_rating', 'mean'),\n",
    "    adjusted_review_count=('adjusted_rating', 'count')\n",
    ").reset_index()\n",
    "\n",
    "# Merge the recalculated stats back into the restaurant metadata\n",
    "restaurants_sample = restaurants_sample.drop(\n",
    "    columns=['adjusted_avg_rating', 'adjusted_review_count'], errors='ignore'\n",
    ").merge(\n",
    "    adjusted_business_stats,\n",
    "    on='business_id',\n",
    "    how='left'\n",
    ")\n",
    "\n",
    "\n",
    "# Compare original vs adjusted ratings\n",
    "print(restaurants_sample[['name', 'stars', 'adjusted_avg_rating', 'review_count', 'adjusted_review_count']].head())\n",
    "print(f\"restaurants with reviews and users: {len(restaurants_df)}\")\n"
   ]
  },
  {
   "cell_type": "markdown",
   "id": "a29a9175",
   "metadata": {},
   "source": [
    "# Visualize Rating Distributions"
   ]
  },
  {
   "cell_type": "code",
   "execution_count": 55,
   "id": "3faebd59",
   "metadata": {},
   "outputs": [
    {
     "data": {
      "image/png": "[encoded data removed]",
      "text/plain": [
       "<Figure size 640x480 with 1 Axes>"
      ]
     },
     "metadata": {},
     "output_type": "display_data"
    },
    {
     "data": {
      "image/png": "[encoded data removed]",
      "text/plain": [
       "<Figure size 640x480 with 1 Axes>"
      ]
     },
     "metadata": {},
     "output_type": "display_data"
    }
   ],
   "source": [
    "import seaborn as sns\n",
    "import matplotlib.pyplot as plt\n",
    "\n",
    "# Original star ratings\n",
    "sns.histplot(restaurants_sample['stars'], bins=5, kde=True)\n",
    "plt.title(\"Original Star Ratings\")\n",
    "plt.xlabel(\"Stars\")\n",
    "plt.ylabel(\"Count\")\n",
    "plt.show()\n",
    "\n",
    "# Bias-adjusted ratings\n",
    "sns.histplot(restaurants_sample['adjusted_avg_rating'], bins=5, kde=True, color='green')\n",
    "plt.title(\"Bias-Adjusted Ratings\")\n",
    "plt.xlabel(\"Adjusted Stars\")\n",
    "plt.ylabel(\"Count\")\n",
    "plt.show()\n"
   ]
  },
  {
   "cell_type": "markdown",
   "id": "c1719c2b",
   "metadata": {},
   "source": [
    "# Map Star Ratings to Sentiment Labels"
   ]
  },
  {
   "cell_type": "code",
   "execution_count": 60,
   "id": "e195827f",
   "metadata": {},
   "outputs": [
    {
     "name": "stdout",
     "output_type": "stream",
     "text": [
      "                review_id                 user_id             business_id  \\\n",
      "0  _ZeMknuYdlQcUqng_Im3yg  yfFzsLmaWF2d4Sr0UNbBgg  LHSTtnW3YHCeUkRDGyJOyw   \n",
      "1  mO398Ed5dpv1H5ZsKc8KXw  yobeeTUBfaTBcnk26mXNuA  hKameFsaXh9g8WQbv593UA   \n",
      "2  yCbzm_d4cHpfUX00Ljvgmg  bHSoye7R5cL-LVWLxtaxMg  SSZDGl2J-CEyIzuIbEiYNQ   \n",
      "3  r2IBPY_E8AE5_GpsqlONyg  IKbjLnfBQtEyVzEu8CuOLg  VJEzpfLs_Jnzgqh5A_FVTg   \n",
      "4  Ad91EzbAGRCR1SwkPfZJKg  LWTvg7RlyNLXIf482tXBPw  WCVFqK84i2H5EClSoow7ZA   \n",
      "\n",
      "   stars  useful  funny  cool  \\\n",
      "0      5       2      0     0   \n",
      "1      4       0      0     0   \n",
      "2      2       2      0     0   \n",
      "3      4       0      0     0   \n",
      "4      5       0      0     0   \n",
      "\n",
      "                                                text                date  \\\n",
      "0  Amazingly amazing wings and homemade bleu chee... 2015-08-07 02:29:16   \n",
      "1  Food was good- atmosphere/decor is like a fish... 2015-04-15 15:30:48   \n",
      "2  We started with the artichoke dip, big mistake... 2017-09-08 23:20:19   \n",
      "3  It was my fiance's birthday and he decided he ... 2014-04-01 13:05:18   \n",
      "4  Traveling through in our RV, stopped over in G... 2016-07-21 17:41:18   \n",
      "\n",
      "   average_stars  review_count  adjusted_rating sentiment  \n",
      "0           5.00           1.0             5.00  positive  \n",
      "1           4.30          30.0             2.70   neutral  \n",
      "2           3.00          13.0             2.00  negative  \n",
      "3           3.87         800.0             3.13   neutral  \n",
      "4           3.40          10.0             5.00  positive  \n"
     ]
    }
   ],
   "source": [
    "def star_to_sentiment(stars):\n",
    "    if stars <= 2:\n",
    "        return 'negative'\n",
    "    elif 2 < stars < 4:\n",
    "        return 'neutral'\n",
    "    else:\n",
    "        return 'positive'\n",
    "\n",
    "reviews_with_user['sentiment'] = reviews_with_user['adjusted_rating'].apply(star_to_sentiment)\n",
    "print(reviews_with_user.head())"
   ]
  }
 ],
 "metadata": {
  "kernelspec": {
   "display_name": "venv",
   "language": "python",
   "name": "python3"
  },
  "language_info": {
   "codemirror_mode": {
    "name": "ipython",
    "version": 3
   },
   "file_extension": ".py",
   "mimetype": "text/x-python",
   "name": "python",
   "nbconvert_exporter": "python",
   "pygments_lexer": "ipython3",
   "version": "3.11.3"
  }
 },
 "nbformat": 4,
 "nbformat_minor": 5
}
